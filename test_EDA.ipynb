{
 "cells": [
  {
   "cell_type": "code",
   "execution_count": 4,
   "metadata": {},
   "outputs": [
    {
     "data": {
      "text/html": [
       "<div><style>\n",
       ".dataframe > thead > tr > th,\n",
       ".dataframe > tbody > tr > td {\n",
       "  text-align: right;\n",
       "}\n",
       "</style>\n",
       "<small>shape: (5, 12)</small><table border=\"1\" class=\"dataframe\"><thead><tr><th>id</th><th>url</th><th>title</th><th>wiki_intro</th><th>generated_intro</th><th>title_len</th><th>wiki_intro_len</th><th>generated_intro_len</th><th>prompt</th><th>generated_text</th><th>prompt_tokens</th><th>generated_text_tokens</th></tr><tr><td>i64</td><td>str</td><td>str</td><td>str</td><td>str</td><td>i64</td><td>i64</td><td>i64</td><td>str</td><td>str</td><td>i64</td><td>i64</td></tr></thead><tbody><tr><td>63064638</td><td>&quot;https://en.wik…</td><td>&quot;Sexhow railway…</td><td>&quot;Sexhow railway…</td><td>&quot;Sexhow railway…</td><td>3</td><td>174</td><td>78</td><td>&quot;200 word wikip…</td><td>&quot; located in th…</td><td>25</td><td>88</td></tr><tr><td>279621</td><td>&quot;https://en.wik…</td><td>&quot;Etiäinen&quot;</td><td>&quot;In Finnish fol…</td><td>&quot;In Finnish fol…</td><td>1</td><td>187</td><td>80</td><td>&quot;200 word wikip…</td><td>&quot; animate or in…</td><td>26</td><td>101</td></tr><tr><td>287229</td><td>&quot;https://en.wik…</td><td>&quot;Inverse functi…</td><td>&quot;In mathematics…</td><td>&quot;In mathematics…</td><td>3</td><td>170</td><td>59</td><td>&quot;200 word wikip…</td><td>&quot; function theo…</td><td>26</td><td>65</td></tr><tr><td>26712375</td><td>&quot;https://en.wik…</td><td>&quot;Stepping on Ro…</td><td>&quot;is a Japanese …</td><td>&quot;is a Japanese …</td><td>3</td><td>335</td><td>121</td><td>&quot;200 word wikip…</td><td>&quot; and illustrat…</td><td>26</td><td>150</td></tr><tr><td>38894426</td><td>&quot;https://en.wik…</td><td>&quot;Rob Bradley&quot;</td><td>&quot;Robert Milner …</td><td>&quot;Robert Milner …</td><td>2</td><td>170</td><td>136</td><td>&quot;200 word wikip…</td><td>&quot; 29, 1973) is …</td><td>28</td><td>162</td></tr></tbody></table></div>"
      ],
      "text/plain": [
       "shape: (5, 12)\n",
       "┌──────────┬───────────┬──────────┬──────────┬───┬──────────┬────────────┬────────────┬────────────┐\n",
       "│ id       ┆ url       ┆ title    ┆ wiki_int ┆ … ┆ prompt   ┆ generated_ ┆ prompt_tok ┆ generated_ │\n",
       "│ ---      ┆ ---       ┆ ---      ┆ ro       ┆   ┆ ---      ┆ text       ┆ ens        ┆ text_token │\n",
       "│ i64      ┆ str       ┆ str      ┆ ---      ┆   ┆ str      ┆ ---        ┆ ---        ┆ s          │\n",
       "│          ┆           ┆          ┆ str      ┆   ┆          ┆ str        ┆ i64        ┆ ---        │\n",
       "│          ┆           ┆          ┆          ┆   ┆          ┆            ┆            ┆ i64        │\n",
       "╞══════════╪═══════════╪══════════╪══════════╪═══╪══════════╪════════════╪════════════╪════════════╡\n",
       "│ 63064638 ┆ https://e ┆ Sexhow   ┆ Sexhow   ┆ … ┆ 200 word ┆ located in ┆ 25         ┆ 88         │\n",
       "│          ┆ n.wikiped ┆ railway  ┆ railway  ┆   ┆ wikipedi ┆ the town   ┆            ┆            │\n",
       "│          ┆ ia.org/wi ┆ station  ┆ station  ┆   ┆ a style  ┆ of Sexhow, ┆            ┆            │\n",
       "│          ┆ ki/Se…    ┆          ┆ was a    ┆   ┆ introdu… ┆ …          ┆            ┆            │\n",
       "│          ┆           ┆          ┆ rai…     ┆   ┆          ┆            ┆            ┆            │\n",
       "│ 279621   ┆ https://e ┆ Etiäinen ┆ In       ┆ … ┆ 200 word ┆ animate or ┆ 26         ┆ 101        │\n",
       "│          ┆ n.wikiped ┆          ┆ Finnish  ┆   ┆ wikipedi ┆ inanimate, ┆            ┆            │\n",
       "│          ┆ ia.org/wi ┆          ┆ folklore ┆   ┆ a style  ┆ have a sp… ┆            ┆            │\n",
       "│          ┆ ki/Et…    ┆          ┆ , all    ┆   ┆ introdu… ┆            ┆            ┆            │\n",
       "│          ┆           ┆          ┆ places … ┆   ┆          ┆            ┆            ┆            │\n",
       "│ 287229   ┆ https://e ┆ Inverse  ┆ In mathe ┆ … ┆ 200 word ┆ function   ┆ 26         ┆ 65         │\n",
       "│          ┆ n.wikiped ┆ function ┆ matics,  ┆   ┆ wikipedi ┆ theorem    ┆            ┆            │\n",
       "│          ┆ ia.org/wi ┆ theorem  ┆ specific ┆   ┆ a style  ┆ states     ┆            ┆            │\n",
       "│          ┆ ki/In…    ┆          ┆ ally     ┆   ┆ introdu… ┆ that fo…   ┆            ┆            │\n",
       "│          ┆           ┆          ┆ dif…     ┆   ┆          ┆            ┆            ┆            │\n",
       "│ 26712375 ┆ https://e ┆ Stepping ┆ is a     ┆ … ┆ 200 word ┆ and illust ┆ 26         ┆ 150        │\n",
       "│          ┆ n.wikiped ┆ on Roses ┆ Japanese ┆   ┆ wikipedi ┆ rated by   ┆            ┆            │\n",
       "│          ┆ ia.org/wi ┆          ┆ shōjo    ┆   ┆ a style  ┆ Maki       ┆            ┆            │\n",
       "│          ┆ ki/St…    ┆          ┆ manga    ┆   ┆ introdu… ┆ Fujii. …   ┆            ┆            │\n",
       "│          ┆           ┆          ┆ series…  ┆   ┆          ┆            ┆            ┆            │\n",
       "│ 38894426 ┆ https://e ┆ Rob      ┆ Robert   ┆ … ┆ 200 word ┆ 29, 1973)  ┆ 28         ┆ 162        │\n",
       "│          ┆ n.wikiped ┆ Bradley  ┆ Milner   ┆   ┆ wikipedi ┆ is an      ┆            ┆            │\n",
       "│          ┆ ia.org/wi ┆          ┆ \"Rob\"    ┆   ┆ a style  ┆ American   ┆            ┆            │\n",
       "│          ┆ ki/Ro…    ┆          ┆ Bradley, ┆   ┆ introdu… ┆ former…    ┆            ┆            │\n",
       "│          ┆           ┆          ┆ Jr.…     ┆   ┆          ┆            ┆            ┆            │\n",
       "└──────────┴───────────┴──────────┴──────────┴───┴──────────┴────────────┴────────────┴────────────┘"
      ]
     },
     "execution_count": 4,
     "metadata": {},
     "output_type": "execute_result"
    }
   ],
   "source": [
    "import polars as pl\n",
    "\n",
    "df = pl.read_csv(\"Data/GPT-wiki-intro.csv\")\n",
    "\n",
    "df.head(5)"
   ]
  },
  {
   "cell_type": "code",
   "execution_count": 5,
   "metadata": {},
   "outputs": [
    {
     "data": {
      "text/html": [
       "<div><style>\n",
       ".dataframe > thead > tr > th,\n",
       ".dataframe > tbody > tr > td {\n",
       "  text-align: right;\n",
       "}\n",
       "</style>\n",
       "<small>shape: (9, 13)</small><table border=\"1\" class=\"dataframe\"><thead><tr><th>describe</th><th>id</th><th>url</th><th>title</th><th>wiki_intro</th><th>generated_intro</th><th>title_len</th><th>wiki_intro_len</th><th>generated_intro_len</th><th>prompt</th><th>generated_text</th><th>prompt_tokens</th><th>generated_text_tokens</th></tr><tr><td>str</td><td>f64</td><td>str</td><td>str</td><td>str</td><td>str</td><td>f64</td><td>f64</td><td>f64</td><td>str</td><td>str</td><td>f64</td><td>f64</td></tr></thead><tbody><tr><td>&quot;count&quot;</td><td>150000.0</td><td>&quot;150000&quot;</td><td>&quot;150000&quot;</td><td>&quot;150000&quot;</td><td>&quot;150000&quot;</td><td>150000.0</td><td>150000.0</td><td>150000.0</td><td>&quot;150000&quot;</td><td>&quot;150000&quot;</td><td>150000.0</td><td>150000.0</td></tr><tr><td>&quot;null_count&quot;</td><td>0.0</td><td>&quot;0&quot;</td><td>&quot;0&quot;</td><td>&quot;0&quot;</td><td>&quot;0&quot;</td><td>0.0</td><td>0.0</td><td>0.0</td><td>&quot;0&quot;</td><td>&quot;0&quot;</td><td>0.0</td><td>0.0</td></tr><tr><td>&quot;mean&quot;</td><td>2.4984e7</td><td>null</td><td>null</td><td>null</td><td>null</td><td>2.21538</td><td>196.005113</td><td>129.469147</td><td>null</td><td>null</td><td>28.95776</td><td>165.740753</td></tr><tr><td>&quot;std&quot;</td><td>2.1439e7</td><td>null</td><td>null</td><td>null</td><td>null</td><td>0.629514</td><td>41.444268</td><td>57.040399</td><td>null</td><td>null</td><td>5.045038</td><td>77.221271</td></tr><tr><td>&quot;min&quot;</td><td>305.0</td><td>&quot;https://en.wik…</td><td>&quot;!!!&quot;</td><td>&quot;\n",
       "\t \n",
       "Several sh…</td><td>&quot;\n",
       "\t \n",
       "Several sh…</td><td>1.0</td><td>150.0</td><td>7.0</td><td>&quot;200 word wikip…</td><td>&quot;\n",
       "\n",
       "\n",
       "&quot;</td><td>21.0</td><td>1.0</td></tr><tr><td>&quot;max&quot;</td><td>7.0201745e7</td><td>&quot;https://en.wik…</td><td>&quot;♯P&quot;</td><td>&quot;→ ↑ → (pronoun…</td><td>&quot;→ ↑ → (pronoun…</td><td>3.0</td><td>350.0</td><td>278.0</td><td>&quot;200 word wikip…</td><td>&quot;김향나; born Janu…</td><td>148.0</td><td>300.0</td></tr><tr><td>&quot;median&quot;</td><td>2.0729819e7</td><td>null</td><td>null</td><td>null</td><td>null</td><td>2.0</td><td>184.0</td><td>122.0</td><td>null</td><td>null</td><td>28.0</td><td>155.0</td></tr><tr><td>&quot;25%&quot;</td><td>4.431522e6</td><td>null</td><td>null</td><td>null</td><td>null</td><td>2.0</td><td>164.0</td><td>86.0</td><td>null</td><td>null</td><td>26.0</td><td>107.0</td></tr><tr><td>&quot;75%&quot;</td><td>4.231814e7</td><td>null</td><td>null</td><td>null</td><td>null</td><td>3.0</td><td>216.0</td><td>170.0</td><td>null</td><td>null</td><td>31.0</td><td>220.0</td></tr></tbody></table></div>"
      ],
      "text/plain": [
       "shape: (9, 13)\n",
       "┌───────────┬───────────┬───────────┬────────┬───┬──────────┬────────────┬────────────┬────────────┐\n",
       "│ describe  ┆ id        ┆ url       ┆ title  ┆ … ┆ prompt   ┆ generated_ ┆ prompt_tok ┆ generated_ │\n",
       "│ ---       ┆ ---       ┆ ---       ┆ ---    ┆   ┆ ---      ┆ text       ┆ ens        ┆ text_token │\n",
       "│ str       ┆ f64       ┆ str       ┆ str    ┆   ┆ str      ┆ ---        ┆ ---        ┆ s          │\n",
       "│           ┆           ┆           ┆        ┆   ┆          ┆ str        ┆ f64        ┆ ---        │\n",
       "│           ┆           ┆           ┆        ┆   ┆          ┆            ┆            ┆ f64        │\n",
       "╞═══════════╪═══════════╪═══════════╪════════╪═══╪══════════╪════════════╪════════════╪════════════╡\n",
       "│ count     ┆ 150000.0  ┆ 150000    ┆ 150000 ┆ … ┆ 150000   ┆ 150000     ┆ 150000.0   ┆ 150000.0   │\n",
       "│ null_coun ┆ 0.0       ┆ 0         ┆ 0      ┆ … ┆ 0        ┆ 0          ┆ 0.0        ┆ 0.0        │\n",
       "│ t         ┆           ┆           ┆        ┆   ┆          ┆            ┆            ┆            │\n",
       "│ mean      ┆ 2.4984e7  ┆ null      ┆ null   ┆ … ┆ null     ┆ null       ┆ 28.95776   ┆ 165.740753 │\n",
       "│ std       ┆ 2.1439e7  ┆ null      ┆ null   ┆ … ┆ null     ┆ null       ┆ 5.045038   ┆ 77.221271  │\n",
       "│ min       ┆ 305.0     ┆ https://e ┆ !!!    ┆ … ┆ 200 word ┆            ┆ 21.0       ┆ 1.0        │\n",
       "│           ┆           ┆ n.wikiped ┆        ┆   ┆ wikipedi ┆            ┆            ┆            │\n",
       "│           ┆           ┆ ia.org/wi ┆        ┆   ┆ a style  ┆            ┆            ┆            │\n",
       "│           ┆           ┆ ki/%2…    ┆        ┆   ┆ introdu… ┆            ┆            ┆            │\n",
       "│ max       ┆ 7.0201745 ┆ https://e ┆ ♯P     ┆ … ┆ 200 word ┆ 김향나;    ┆ 148.0      ┆ 300.0      │\n",
       "│           ┆ e7        ┆ n.wikiped ┆        ┆   ┆ wikipedi ┆ born       ┆            ┆            │\n",
       "│           ┆           ┆ ia.org/wi ┆        ┆   ┆ a style  ┆ January 9, ┆            ┆            │\n",
       "│           ┆           ┆ ki/Zz…    ┆        ┆   ┆ introdu… ┆ 1987) is a ┆            ┆            │\n",
       "│           ┆           ┆           ┆        ┆   ┆          ┆ …          ┆            ┆            │\n",
       "│ median    ┆ 2.0729819 ┆ null      ┆ null   ┆ … ┆ null     ┆ null       ┆ 28.0       ┆ 155.0      │\n",
       "│           ┆ e7        ┆           ┆        ┆   ┆          ┆            ┆            ┆            │\n",
       "│ 25%       ┆ 4.431522e ┆ null      ┆ null   ┆ … ┆ null     ┆ null       ┆ 26.0       ┆ 107.0      │\n",
       "│           ┆ 6         ┆           ┆        ┆   ┆          ┆            ┆            ┆            │\n",
       "│ 75%       ┆ 4.231814e ┆ null      ┆ null   ┆ … ┆ null     ┆ null       ┆ 31.0       ┆ 220.0      │\n",
       "│           ┆ 7         ┆           ┆        ┆   ┆          ┆            ┆            ┆            │\n",
       "└───────────┴───────────┴───────────┴────────┴───┴──────────┴────────────┴────────────┴────────────┘"
      ]
     },
     "execution_count": 5,
     "metadata": {},
     "output_type": "execute_result"
    }
   ],
   "source": [
    "df.describe() # 150000"
   ]
  },
  {
   "cell_type": "code",
   "execution_count": 6,
   "metadata": {},
   "outputs": [
    {
     "data": {
      "text/html": [
       "<div><style>\n",
       ".dataframe > thead > tr > th,\n",
       ".dataframe > tbody > tr > td {\n",
       "  text-align: right;\n",
       "}\n",
       "</style>\n",
       "<small>shape: (5, 2)</small><table border=\"1\" class=\"dataframe\"><thead><tr><th>wiki_intro</th><th>generated_intro</th></tr><tr><td>str</td><td>str</td></tr></thead><tbody><tr><td>&quot;Sexhow railway…</td><td>&quot;Sexhow railway…</td></tr><tr><td>&quot;In Finnish fol…</td><td>&quot;In Finnish fol…</td></tr><tr><td>&quot;In mathematics…</td><td>&quot;In mathematics…</td></tr><tr><td>&quot;is a Japanese …</td><td>&quot;is a Japanese …</td></tr><tr><td>&quot;Robert Milner …</td><td>&quot;Robert Milner …</td></tr></tbody></table></div>"
      ],
      "text/plain": [
       "shape: (5, 2)\n",
       "┌───────────────────────────────────┬───────────────────────────────────┐\n",
       "│ wiki_intro                        ┆ generated_intro                   │\n",
       "│ ---                               ┆ ---                               │\n",
       "│ str                               ┆ str                               │\n",
       "╞═══════════════════════════════════╪═══════════════════════════════════╡\n",
       "│ Sexhow railway station was a rai… ┆ Sexhow railway station was a rai… │\n",
       "│ In Finnish folklore, all places … ┆ In Finnish folklore, all places … │\n",
       "│ In mathematics, specifically dif… ┆ In mathematics, specifically dif… │\n",
       "│ is a Japanese shōjo manga series… ┆ is a Japanese shōjo manga series… │\n",
       "│ Robert Milner \"Rob\" Bradley, Jr.… ┆ Robert Milner \"Rob\" Bradley, Jr.… │\n",
       "└───────────────────────────────────┴───────────────────────────────────┘"
      ]
     },
     "execution_count": 6,
     "metadata": {},
     "output_type": "execute_result"
    }
   ],
   "source": [
    "intros = df.select(\"wiki_intro\", \"generated_intro\")\n",
    "intros.head(5)"
   ]
  },
  {
   "cell_type": "code",
   "execution_count": 7,
   "metadata": {},
   "outputs": [
    {
     "data": {
      "text/plain": [
       "' animate or inanimate, have a spirit or \"etiäinen\" that lives there. Etiäinen can manifest in many forms, but is usually described as a kind, elderly woman with white hair. She is the guardian of natural places and often helps people in need. \\n\\nEtiäinen has been a part of Finnish culture for centuries and is still widely believed in today. Folklorists study etiäinen to understand Finnish traditions and how they have changed over time.'"
      ]
     },
     "execution_count": 7,
     "metadata": {},
     "output_type": "execute_result"
    }
   ],
   "source": [
    "df[1, \"generated_text\"] "
   ]
  },
  {
   "cell_type": "code",
   "execution_count": 11,
   "metadata": {},
   "outputs": [],
   "source": [
    "# select and save first 1000 rows\n",
    "short_df = df.head(1000)\n",
    "\n",
    "#save short_df to csv\n",
    "short_df.write_csv(\"Data/short_df.csv\")\n",
    "\n"
   ]
  },
  {
   "cell_type": "code",
   "execution_count": 12,
   "metadata": {},
   "outputs": [
    {
     "data": {
      "text/html": [
       "<div><style>\n",
       ".dataframe > thead > tr > th,\n",
       ".dataframe > tbody > tr > td {\n",
       "  text-align: right;\n",
       "}\n",
       "</style>\n",
       "<small>shape: (5, 12)</small><table border=\"1\" class=\"dataframe\"><thead><tr><th>id</th><th>url</th><th>title</th><th>wiki_intro</th><th>generated_intro</th><th>title_len</th><th>wiki_intro_len</th><th>generated_intro_len</th><th>prompt</th><th>generated_text</th><th>prompt_tokens</th><th>generated_text_tokens</th></tr><tr><td>i64</td><td>str</td><td>str</td><td>str</td><td>str</td><td>i64</td><td>i64</td><td>i64</td><td>str</td><td>str</td><td>i64</td><td>i64</td></tr></thead><tbody><tr><td>63064638</td><td>&quot;https://en.wik…</td><td>&quot;Sexhow railway…</td><td>&quot;Sexhow railway…</td><td>&quot;Sexhow railway…</td><td>3</td><td>174</td><td>78</td><td>&quot;200 word wikip…</td><td>&quot; located in th…</td><td>25</td><td>88</td></tr><tr><td>279621</td><td>&quot;https://en.wik…</td><td>&quot;Etiäinen&quot;</td><td>&quot;In Finnish fol…</td><td>&quot;In Finnish fol…</td><td>1</td><td>187</td><td>80</td><td>&quot;200 word wikip…</td><td>&quot; animate or in…</td><td>26</td><td>101</td></tr><tr><td>287229</td><td>&quot;https://en.wik…</td><td>&quot;Inverse functi…</td><td>&quot;In mathematics…</td><td>&quot;In mathematics…</td><td>3</td><td>170</td><td>59</td><td>&quot;200 word wikip…</td><td>&quot; function theo…</td><td>26</td><td>65</td></tr><tr><td>26712375</td><td>&quot;https://en.wik…</td><td>&quot;Stepping on Ro…</td><td>&quot;is a Japanese …</td><td>&quot;is a Japanese …</td><td>3</td><td>335</td><td>121</td><td>&quot;200 word wikip…</td><td>&quot; and illustrat…</td><td>26</td><td>150</td></tr><tr><td>38894426</td><td>&quot;https://en.wik…</td><td>&quot;Rob Bradley&quot;</td><td>&quot;Robert Milner …</td><td>&quot;Robert Milner …</td><td>2</td><td>170</td><td>136</td><td>&quot;200 word wikip…</td><td>&quot; 29, 1973) is …</td><td>28</td><td>162</td></tr></tbody></table></div>"
      ],
      "text/plain": [
       "shape: (5, 12)\n",
       "┌──────────┬───────────┬──────────┬──────────┬───┬──────────┬────────────┬────────────┬────────────┐\n",
       "│ id       ┆ url       ┆ title    ┆ wiki_int ┆ … ┆ prompt   ┆ generated_ ┆ prompt_tok ┆ generated_ │\n",
       "│ ---      ┆ ---       ┆ ---      ┆ ro       ┆   ┆ ---      ┆ text       ┆ ens        ┆ text_token │\n",
       "│ i64      ┆ str       ┆ str      ┆ ---      ┆   ┆ str      ┆ ---        ┆ ---        ┆ s          │\n",
       "│          ┆           ┆          ┆ str      ┆   ┆          ┆ str        ┆ i64        ┆ ---        │\n",
       "│          ┆           ┆          ┆          ┆   ┆          ┆            ┆            ┆ i64        │\n",
       "╞══════════╪═══════════╪══════════╪══════════╪═══╪══════════╪════════════╪════════════╪════════════╡\n",
       "│ 63064638 ┆ https://e ┆ Sexhow   ┆ Sexhow   ┆ … ┆ 200 word ┆ located in ┆ 25         ┆ 88         │\n",
       "│          ┆ n.wikiped ┆ railway  ┆ railway  ┆   ┆ wikipedi ┆ the town   ┆            ┆            │\n",
       "│          ┆ ia.org/wi ┆ station  ┆ station  ┆   ┆ a style  ┆ of Sexhow, ┆            ┆            │\n",
       "│          ┆ ki/Se…    ┆          ┆ was a    ┆   ┆ introdu… ┆ …          ┆            ┆            │\n",
       "│          ┆           ┆          ┆ rai…     ┆   ┆          ┆            ┆            ┆            │\n",
       "│ 279621   ┆ https://e ┆ Etiäinen ┆ In       ┆ … ┆ 200 word ┆ animate or ┆ 26         ┆ 101        │\n",
       "│          ┆ n.wikiped ┆          ┆ Finnish  ┆   ┆ wikipedi ┆ inanimate, ┆            ┆            │\n",
       "│          ┆ ia.org/wi ┆          ┆ folklore ┆   ┆ a style  ┆ have a sp… ┆            ┆            │\n",
       "│          ┆ ki/Et…    ┆          ┆ , all    ┆   ┆ introdu… ┆            ┆            ┆            │\n",
       "│          ┆           ┆          ┆ places … ┆   ┆          ┆            ┆            ┆            │\n",
       "│ 287229   ┆ https://e ┆ Inverse  ┆ In mathe ┆ … ┆ 200 word ┆ function   ┆ 26         ┆ 65         │\n",
       "│          ┆ n.wikiped ┆ function ┆ matics,  ┆   ┆ wikipedi ┆ theorem    ┆            ┆            │\n",
       "│          ┆ ia.org/wi ┆ theorem  ┆ specific ┆   ┆ a style  ┆ states     ┆            ┆            │\n",
       "│          ┆ ki/In…    ┆          ┆ ally     ┆   ┆ introdu… ┆ that fo…   ┆            ┆            │\n",
       "│          ┆           ┆          ┆ dif…     ┆   ┆          ┆            ┆            ┆            │\n",
       "│ 26712375 ┆ https://e ┆ Stepping ┆ is a     ┆ … ┆ 200 word ┆ and illust ┆ 26         ┆ 150        │\n",
       "│          ┆ n.wikiped ┆ on Roses ┆ Japanese ┆   ┆ wikipedi ┆ rated by   ┆            ┆            │\n",
       "│          ┆ ia.org/wi ┆          ┆ shōjo    ┆   ┆ a style  ┆ Maki       ┆            ┆            │\n",
       "│          ┆ ki/St…    ┆          ┆ manga    ┆   ┆ introdu… ┆ Fujii. …   ┆            ┆            │\n",
       "│          ┆           ┆          ┆ series…  ┆   ┆          ┆            ┆            ┆            │\n",
       "│ 38894426 ┆ https://e ┆ Rob      ┆ Robert   ┆ … ┆ 200 word ┆ 29, 1973)  ┆ 28         ┆ 162        │\n",
       "│          ┆ n.wikiped ┆ Bradley  ┆ Milner   ┆   ┆ wikipedi ┆ is an      ┆            ┆            │\n",
       "│          ┆ ia.org/wi ┆          ┆ \"Rob\"    ┆   ┆ a style  ┆ American   ┆            ┆            │\n",
       "│          ┆ ki/Ro…    ┆          ┆ Bradley, ┆   ┆ introdu… ┆ former…    ┆            ┆            │\n",
       "│          ┆           ┆          ┆ Jr.…     ┆   ┆          ┆            ┆            ┆            │\n",
       "└──────────┴───────────┴──────────┴──────────┴───┴──────────┴────────────┴────────────┴────────────┘"
      ]
     },
     "execution_count": 12,
     "metadata": {},
     "output_type": "execute_result"
    }
   ],
   "source": [
    "short_df.head()"
   ]
  },
  {
   "cell_type": "code",
   "execution_count": null,
   "metadata": {},
   "outputs": [],
   "source": []
  }
 ],
 "metadata": {
  "kernelspec": {
   "display_name": "ml",
   "language": "python",
   "name": "python3"
  },
  "language_info": {
   "codemirror_mode": {
    "name": "ipython",
    "version": 3
   },
   "file_extension": ".py",
   "mimetype": "text/x-python",
   "name": "python",
   "nbconvert_exporter": "python",
   "pygments_lexer": "ipython3",
   "version": "3.10.11"
  },
  "orig_nbformat": 4
 },
 "nbformat": 4,
 "nbformat_minor": 2
}
